{
 "cells": [
  {
   "cell_type": "markdown",
   "metadata": {},
   "source": [
    "# The Skip-gram Model"
   ]
  },
  {
   "cell_type": "markdown",
   "metadata": {},
   "source": [
    "## Importing the libraries"
   ]
  },
  {
   "cell_type": "code",
   "execution_count": 1,
   "metadata": {},
   "outputs": [],
   "source": [
    "import pandas as pd\n",
    "import numpy as np\n",
    "import re\n",
    "import matplotlib.pyplot as plt"
   ]
  },
  {
   "cell_type": "code",
   "execution_count": 2,
   "metadata": {},
   "outputs": [
    {
     "name": "stderr",
     "output_type": "stream",
     "text": [
      "[nltk_data] Downloading package gutenberg to /home/kienmn/nltk_data...\n",
      "[nltk_data]   Package gutenberg is already up-to-date!\n",
      "[nltk_data] Downloading package punkt to /home/kienmn/nltk_data...\n",
      "[nltk_data]   Package punkt is already up-to-date!\n",
      "[nltk_data] Downloading package stopwords to /home/kienmn/nltk_data...\n",
      "[nltk_data]   Package stopwords is already up-to-date!\n"
     ]
    },
    {
     "data": {
      "text/plain": [
       "True"
      ]
     },
     "execution_count": 2,
     "metadata": {},
     "output_type": "execute_result"
    }
   ],
   "source": [
    "import nltk\n",
    "nltk.download('gutenberg')\n",
    "nltk.download('punkt')\n",
    "nltk.download('stopwords')"
   ]
  },
  {
   "cell_type": "markdown",
   "metadata": {},
   "source": [
    "## Preprocessing the text"
   ]
  },
  {
   "cell_type": "code",
   "execution_count": 3,
   "metadata": {},
   "outputs": [],
   "source": [
    "wpt = nltk.WordPunctTokenizer()\n",
    "stop_words = nltk.corpus.stopwords.words('english')\n",
    "\n",
    "def normalize_document(doc):\n",
    "    # lower case and remove special characters\\whitespaces\n",
    "    doc = re.sub(r'[^a-zA-Z\\s]', '', doc, re.I|re.A)\n",
    "    doc = doc.lower()\n",
    "    doc = doc.strip()\n",
    "    # tokenize document\n",
    "    tokens = wpt.tokenize(doc)\n",
    "    # filter stopwords out of document\n",
    "    filtered_tokens = [token for token in tokens if token not in stop_words]\n",
    "    # re-create document from filtered tokens\n",
    "    doc = ' '.join(filtered_tokens)\n",
    "    return doc\n",
    "\n",
    "normalize_corpus = np.vectorize(normalize_document)"
   ]
  },
  {
   "cell_type": "code",
   "execution_count": 4,
   "metadata": {},
   "outputs": [],
   "source": [
    "from nltk.corpus import gutenberg\n",
    "from string import punctuation"
   ]
  },
  {
   "cell_type": "code",
   "execution_count": 5,
   "metadata": {},
   "outputs": [
    {
     "name": "stdout",
     "output_type": "stream",
     "text": [
      "Total lines: 30103\n",
      "\n",
      "Sample line: ['1', ':', '6', 'And', 'God', 'said', ',', 'Let', 'there', 'be', 'a', 'firmament', 'in', 'the', 'midst', 'of', 'the', 'waters', ',', 'and', 'let', 'it', 'divide', 'the', 'waters', 'from', 'the', 'waters', '.']\n",
      "\n",
      "Processed line: god said let firmament midst waters let divide waters waters\n"
     ]
    }
   ],
   "source": [
    "bible = gutenberg.sents('bible-kjv.txt') \n",
    "remove_terms = punctuation + '0123456789'\n",
    "\n",
    "norm_bible = [[word.lower() for word in sent if word not in remove_terms] for sent in bible]\n",
    "norm_bible = [' '.join(tok_sent) for tok_sent in norm_bible]\n",
    "norm_bible = filter(None, normalize_corpus(norm_bible))\n",
    "norm_bible = [tok_sent for tok_sent in norm_bible if len(tok_sent.split()) > 2]\n",
    "\n",
    "print('Total lines:', len(bible))\n",
    "print('\\nSample line:', bible[10])\n",
    "print('\\nProcessed line:', norm_bible[10])"
   ]
  },
  {
   "cell_type": "markdown",
   "metadata": {},
   "source": [
    "## Implementing the Skip-gram Model\n",
    "### Build the corpus vocabulary"
   ]
  },
  {
   "cell_type": "code",
   "execution_count": 6,
   "metadata": {},
   "outputs": [
    {
     "name": "stderr",
     "output_type": "stream",
     "text": [
      "Using TensorFlow backend.\n"
     ]
    },
    {
     "name": "stdout",
     "output_type": "stream",
     "text": [
      "Vocabulary Size: 12425\n",
      "Vocabulary Sample: [('shall', 1), ('unto', 2), ('lord', 3), ('thou', 4), ('thy', 5), ('god', 6), ('ye', 7), ('said', 8), ('thee', 9), ('upon', 10)]\n"
     ]
    }
   ],
   "source": [
    "from keras.preprocessing import text\n",
    "from keras.utils import np_utils\n",
    "from keras.preprocessing import sequence\n",
    "\n",
    "tokenizer = text.Tokenizer()\n",
    "tokenizer.fit_on_texts(norm_bible)\n",
    "word2id = tokenizer.word_index\n",
    "\n",
    "# build vocabulary of unique words\n",
    "word2id['PAD'] = 0\n",
    "id2word = {v:k for k, v in word2id.items()}\n",
    "wids = [[word2id[w] for w in text.text_to_word_sequence(doc)] for doc in norm_bible]\n",
    "\n",
    "vocab_size = len(word2id)\n",
    "embed_size = 100\n",
    "window_size = 2 # context window size\n",
    "\n",
    "print('Vocabulary Size:', vocab_size)\n",
    "print('Vocabulary Sample:', list(word2id.items())[:10])"
   ]
  },
  {
   "cell_type": "code",
   "execution_count": 7,
   "metadata": {},
   "outputs": [
    {
     "data": {
      "text/plain": [
       "[[13, 1154, 5766],\n",
       " [154, 2450, 13, 1154, 5766],\n",
       " [132, 310, 63, 86, 8480],\n",
       " [582, 6, 1180, 94, 47],\n",
       " [47, 136, 1883, 1884, 396, 10, 144, 860],\n",
       " [111, 6, 759, 10, 144, 212],\n",
       " [6, 8, 27, 232, 232],\n",
       " [6, 101, 232, 75, 6, 826, 232, 396],\n",
       " [6, 86, 232, 23, 396, 86, 197],\n",
       " [926, 287, 132, 23]]"
      ]
     },
     "execution_count": 7,
     "metadata": {},
     "output_type": "execute_result"
    }
   ],
   "source": [
    "wids[:10]"
   ]
  },
  {
   "cell_type": "markdown",
   "metadata": {},
   "source": [
    "### Building a skip-gram [(target, context), relevancy] generator"
   ]
  },
  {
   "cell_type": "code",
   "execution_count": 8,
   "metadata": {},
   "outputs": [],
   "source": [
    "from keras.preprocessing.sequence import skipgrams\n",
    "\n",
    "# Generate skip-grams\n",
    "skip_grams = [skipgrams(wid, vocabulary_size=vocab_size, window_size=10) for wid in wids]"
   ]
  },
  {
   "cell_type": "code",
   "execution_count": 9,
   "metadata": {},
   "outputs": [
    {
     "data": {
      "text/plain": [
       "([[5766, 1154],\n",
       "  [1154, 13],\n",
       "  [5766, 325],\n",
       "  [1154, 954],\n",
       "  [13, 1154],\n",
       "  [13, 3656],\n",
       "  [13, 1027],\n",
       "  [13, 5766],\n",
       "  [5766, 11041],\n",
       "  [1154, 3553],\n",
       "  [1154, 5766],\n",
       "  [5766, 13]],\n",
       " [1, 1, 0, 0, 1, 0, 0, 1, 0, 0, 1, 1])"
      ]
     },
     "execution_count": 9,
     "metadata": {},
     "output_type": "execute_result"
    }
   ],
   "source": [
    "skip_grams[0]"
   ]
  },
  {
   "cell_type": "code",
   "execution_count": 10,
   "metadata": {},
   "outputs": [
    {
     "name": "stdout",
     "output_type": "stream",
     "text": [
      "(bible (5766), james (1154)) -> 1\n",
      "(james (1154), king (13)) -> 1\n",
      "(bible (5766), manner (325)) -> 0\n",
      "(james (1154), endureth (954)) -> 0\n",
      "(king (13), james (1154)) -> 1\n",
      "(king (13), enmity (3656)) -> 0\n",
      "(king (13), countenance (1027)) -> 0\n",
      "(king (13), bible (5766)) -> 1\n",
      "(bible (5766), ambushes (11041)) -> 0\n",
      "(james (1154), saluted (3553)) -> 0\n"
     ]
    }
   ],
   "source": [
    "# View sample skip-grams\n",
    "pairs, labels = skip_grams[0][0], skip_grams[0][1]\n",
    "for i in range(10):\n",
    "    print('({:s} ({:d}), {:s} ({:d})) -> {:d}'.format(id2word[pairs[i][0]], pairs[i][0], id2word[pairs[i][1]], pairs[i][1], labels[i]))"
   ]
  },
  {
   "cell_type": "markdown",
   "metadata": {},
   "source": [
    "### Building the Skip-Gram model architecture"
   ]
  },
  {
   "cell_type": "code",
   "execution_count": 11,
   "metadata": {},
   "outputs": [],
   "source": [
    "from keras.models import Sequential, Model\n",
    "from keras.layers import Dot, Dense, Embedding, Reshape, Input"
   ]
  },
  {
   "cell_type": "code",
   "execution_count": 12,
   "metadata": {},
   "outputs": [],
   "source": [
    "input_word = Input((1,))\n",
    "input_context = Input((1,))\n",
    "\n",
    "embedding_layer = Embedding(vocab_size, embed_size, input_length=1)\n",
    "\n",
    "word_embedding = embedding_layer(input_word)\n",
    "word_embedding = Reshape((embed_size,))(word_embedding)\n",
    "context_embedding = embedding_layer(input_context)\n",
    "context_embedding = Reshape((embed_size,))(context_embedding)\n",
    "\n",
    "hidden_layer = Dot(axes=-1)([word_embedding, context_embedding])\n",
    "hidden_layer = Reshape((1,))(hidden_layer)\n",
    "\n",
    "output = Dense(1, input_shape=(1,), activation='sigmoid')(hidden_layer)\n",
    "\n",
    "model = Model(inputs=[input_word, input_context], outputs=output)\n",
    "model.compile(optimizer='adam', loss='binary_crossentropy')"
   ]
  },
  {
   "cell_type": "code",
   "execution_count": 13,
   "metadata": {},
   "outputs": [
    {
     "name": "stdout",
     "output_type": "stream",
     "text": [
      "Model: \"model_1\"\n",
      "__________________________________________________________________________________________________\n",
      "Layer (type)                    Output Shape         Param #     Connected to                     \n",
      "==================================================================================================\n",
      "input_1 (InputLayer)            (None, 1)            0                                            \n",
      "__________________________________________________________________________________________________\n",
      "input_2 (InputLayer)            (None, 1)            0                                            \n",
      "__________________________________________________________________________________________________\n",
      "embedding_1 (Embedding)         (None, 1, 100)       1242500     input_1[0][0]                    \n",
      "                                                                 input_2[0][0]                    \n",
      "__________________________________________________________________________________________________\n",
      "reshape_1 (Reshape)             (None, 100)          0           embedding_1[0][0]                \n",
      "__________________________________________________________________________________________________\n",
      "reshape_2 (Reshape)             (None, 100)          0           embedding_1[1][0]                \n",
      "__________________________________________________________________________________________________\n",
      "dot_1 (Dot)                     (None, 1)            0           reshape_1[0][0]                  \n",
      "                                                                 reshape_2[0][0]                  \n",
      "__________________________________________________________________________________________________\n",
      "reshape_3 (Reshape)             (None, 1)            0           dot_1[0][0]                      \n",
      "__________________________________________________________________________________________________\n",
      "dense_1 (Dense)                 (None, 1)            2           reshape_3[0][0]                  \n",
      "==================================================================================================\n",
      "Total params: 1,242,502\n",
      "Trainable params: 1,242,502\n",
      "Non-trainable params: 0\n",
      "__________________________________________________________________________________________________\n"
     ]
    }
   ],
   "source": [
    "model.summary()"
   ]
  },
  {
   "cell_type": "code",
   "execution_count": 14,
   "metadata": {},
   "outputs": [
    {
     "data": {
      "image/svg+xml": [
       "<svg height=\"424pt\" viewBox=\"0.00 0.00 454.00 470.00\" width=\"410pt\" xmlns=\"http://www.w3.org/2000/svg\" xmlns:xlink=\"http://www.w3.org/1999/xlink\">\n",
       "<g class=\"graph\" id=\"graph0\" transform=\"scale(.9028 .9028) rotate(0) translate(4 466)\">\n",
       "<title>G</title>\n",
       "<polygon fill=\"#ffffff\" points=\"-4,4 -4,-466 450,-466 450,4 -4,4\" stroke=\"transparent\"/>\n",
       "<!-- 140600888633328 -->\n",
       "<g class=\"node\" id=\"node1\">\n",
       "<title>140600888633328</title>\n",
       "<polygon fill=\"none\" points=\"13.5,-415.5 13.5,-461.5 214.5,-461.5 214.5,-415.5 13.5,-415.5\" stroke=\"#000000\"/>\n",
       "<text fill=\"#000000\" font-family=\"Times,serif\" font-size=\"14.00\" text-anchor=\"middle\" x=\"52\" y=\"-434.8\">InputLayer</text>\n",
       "<polyline fill=\"none\" points=\"90.5,-415.5 90.5,-461.5 \" stroke=\"#000000\"/>\n",
       "<text fill=\"#000000\" font-family=\"Times,serif\" font-size=\"14.00\" text-anchor=\"middle\" x=\"118\" y=\"-446.3\">input:</text>\n",
       "<polyline fill=\"none\" points=\"90.5,-438.5 145.5,-438.5 \" stroke=\"#000000\"/>\n",
       "<text fill=\"#000000\" font-family=\"Times,serif\" font-size=\"14.00\" text-anchor=\"middle\" x=\"118\" y=\"-423.3\">output:</text>\n",
       "<polyline fill=\"none\" points=\"145.5,-415.5 145.5,-461.5 \" stroke=\"#000000\"/>\n",
       "<text fill=\"#000000\" font-family=\"Times,serif\" font-size=\"14.00\" text-anchor=\"middle\" x=\"180\" y=\"-446.3\">(None, 1)</text>\n",
       "<polyline fill=\"none\" points=\"145.5,-438.5 214.5,-438.5 \" stroke=\"#000000\"/>\n",
       "<text fill=\"#000000\" font-family=\"Times,serif\" font-size=\"14.00\" text-anchor=\"middle\" x=\"180\" y=\"-423.3\">(None, 1)</text>\n",
       "</g>\n",
       "<!-- 140600888631760 -->\n",
       "<g class=\"node\" id=\"node3\">\n",
       "<title>140600888631760</title>\n",
       "<polygon fill=\"none\" points=\"107,-332.5 107,-378.5 339,-378.5 339,-332.5 107,-332.5\" stroke=\"#000000\"/>\n",
       "<text fill=\"#000000\" font-family=\"Times,serif\" font-size=\"14.00\" text-anchor=\"middle\" x=\"147\" y=\"-351.8\">Embedding</text>\n",
       "<polyline fill=\"none\" points=\"187,-332.5 187,-378.5 \" stroke=\"#000000\"/>\n",
       "<text fill=\"#000000\" font-family=\"Times,serif\" font-size=\"14.00\" text-anchor=\"middle\" x=\"214.5\" y=\"-363.3\">input:</text>\n",
       "<polyline fill=\"none\" points=\"187,-355.5 242,-355.5 \" stroke=\"#000000\"/>\n",
       "<text fill=\"#000000\" font-family=\"Times,serif\" font-size=\"14.00\" text-anchor=\"middle\" x=\"214.5\" y=\"-340.3\">output:</text>\n",
       "<polyline fill=\"none\" points=\"242,-332.5 242,-378.5 \" stroke=\"#000000\"/>\n",
       "<text fill=\"#000000\" font-family=\"Times,serif\" font-size=\"14.00\" text-anchor=\"middle\" x=\"290.5\" y=\"-363.3\">(None, 1)</text>\n",
       "<polyline fill=\"none\" points=\"242,-355.5 339,-355.5 \" stroke=\"#000000\"/>\n",
       "<text fill=\"#000000\" font-family=\"Times,serif\" font-size=\"14.00\" text-anchor=\"middle\" x=\"290.5\" y=\"-340.3\">(None, 1, 100)</text>\n",
       "</g>\n",
       "<!-- 140600888633328&#45;&gt;140600888631760 -->\n",
       "<g class=\"edge\" id=\"edge1\">\n",
       "<title>140600888633328-&gt;140600888631760</title>\n",
       "<path d=\"M144.3626,-415.3799C156.778,-405.9259 171.2878,-394.8772 184.4396,-384.8625\" fill=\"none\" stroke=\"#000000\"/>\n",
       "<polygon fill=\"#000000\" points=\"186.5866,-387.6269 192.4222,-378.784 182.3458,-382.0577 186.5866,-387.6269\" stroke=\"#000000\"/>\n",
       "</g>\n",
       "<!-- 140600888634336 -->\n",
       "<g class=\"node\" id=\"node2\">\n",
       "<title>140600888634336</title>\n",
       "<polygon fill=\"none\" points=\"232.5,-415.5 232.5,-461.5 433.5,-461.5 433.5,-415.5 232.5,-415.5\" stroke=\"#000000\"/>\n",
       "<text fill=\"#000000\" font-family=\"Times,serif\" font-size=\"14.00\" text-anchor=\"middle\" x=\"271\" y=\"-434.8\">InputLayer</text>\n",
       "<polyline fill=\"none\" points=\"309.5,-415.5 309.5,-461.5 \" stroke=\"#000000\"/>\n",
       "<text fill=\"#000000\" font-family=\"Times,serif\" font-size=\"14.00\" text-anchor=\"middle\" x=\"337\" y=\"-446.3\">input:</text>\n",
       "<polyline fill=\"none\" points=\"309.5,-438.5 364.5,-438.5 \" stroke=\"#000000\"/>\n",
       "<text fill=\"#000000\" font-family=\"Times,serif\" font-size=\"14.00\" text-anchor=\"middle\" x=\"337\" y=\"-423.3\">output:</text>\n",
       "<polyline fill=\"none\" points=\"364.5,-415.5 364.5,-461.5 \" stroke=\"#000000\"/>\n",
       "<text fill=\"#000000\" font-family=\"Times,serif\" font-size=\"14.00\" text-anchor=\"middle\" x=\"399\" y=\"-446.3\">(None, 1)</text>\n",
       "<polyline fill=\"none\" points=\"364.5,-438.5 433.5,-438.5 \" stroke=\"#000000\"/>\n",
       "<text fill=\"#000000\" font-family=\"Times,serif\" font-size=\"14.00\" text-anchor=\"middle\" x=\"399\" y=\"-423.3\">(None, 1)</text>\n",
       "</g>\n",
       "<!-- 140600888634336&#45;&gt;140600888631760 -->\n",
       "<g class=\"edge\" id=\"edge2\">\n",
       "<title>140600888634336-&gt;140600888631760</title>\n",
       "<path d=\"M302.3589,-415.3799C289.8295,-405.9259 275.1866,-394.8772 261.9141,-384.8625\" fill=\"none\" stroke=\"#000000\"/>\n",
       "<polygon fill=\"#000000\" points=\"263.949,-382.0133 253.8583,-378.784 259.7328,-387.6011 263.949,-382.0133\" stroke=\"#000000\"/>\n",
       "</g>\n",
       "<!-- 140600888632936 -->\n",
       "<g class=\"node\" id=\"node4\">\n",
       "<title>140600888632936</title>\n",
       "<polygon fill=\"none\" points=\"0,-249.5 0,-295.5 214,-295.5 214,-249.5 0,-249.5\" stroke=\"#000000\"/>\n",
       "<text fill=\"#000000\" font-family=\"Times,serif\" font-size=\"14.00\" text-anchor=\"middle\" x=\"31\" y=\"-268.8\">Reshape</text>\n",
       "<polyline fill=\"none\" points=\"62,-249.5 62,-295.5 \" stroke=\"#000000\"/>\n",
       "<text fill=\"#000000\" font-family=\"Times,serif\" font-size=\"14.00\" text-anchor=\"middle\" x=\"89.5\" y=\"-280.3\">input:</text>\n",
       "<polyline fill=\"none\" points=\"62,-272.5 117,-272.5 \" stroke=\"#000000\"/>\n",
       "<text fill=\"#000000\" font-family=\"Times,serif\" font-size=\"14.00\" text-anchor=\"middle\" x=\"89.5\" y=\"-257.3\">output:</text>\n",
       "<polyline fill=\"none\" points=\"117,-249.5 117,-295.5 \" stroke=\"#000000\"/>\n",
       "<text fill=\"#000000\" font-family=\"Times,serif\" font-size=\"14.00\" text-anchor=\"middle\" x=\"165.5\" y=\"-280.3\">(None, 1, 100)</text>\n",
       "<polyline fill=\"none\" points=\"117,-272.5 214,-272.5 \" stroke=\"#000000\"/>\n",
       "<text fill=\"#000000\" font-family=\"Times,serif\" font-size=\"14.00\" text-anchor=\"middle\" x=\"165.5\" y=\"-257.3\">(None, 100)</text>\n",
       "</g>\n",
       "<!-- 140600888631760&#45;&gt;140600888632936 -->\n",
       "<g class=\"edge\" id=\"edge3\">\n",
       "<title>140600888631760-&gt;140600888632936</title>\n",
       "<path d=\"M190.6875,-332.3799C177.4748,-322.9259 162.0332,-311.8772 148.0367,-301.8625\" fill=\"none\" stroke=\"#000000\"/>\n",
       "<polygon fill=\"#000000\" points=\"149.7108,-298.7566 139.5415,-295.784 145.6374,-304.4495 149.7108,-298.7566\" stroke=\"#000000\"/>\n",
       "</g>\n",
       "<!-- 140600888633440 -->\n",
       "<g class=\"node\" id=\"node5\">\n",
       "<title>140600888633440</title>\n",
       "<polygon fill=\"none\" points=\"232,-249.5 232,-295.5 446,-295.5 446,-249.5 232,-249.5\" stroke=\"#000000\"/>\n",
       "<text fill=\"#000000\" font-family=\"Times,serif\" font-size=\"14.00\" text-anchor=\"middle\" x=\"263\" y=\"-268.8\">Reshape</text>\n",
       "<polyline fill=\"none\" points=\"294,-249.5 294,-295.5 \" stroke=\"#000000\"/>\n",
       "<text fill=\"#000000\" font-family=\"Times,serif\" font-size=\"14.00\" text-anchor=\"middle\" x=\"321.5\" y=\"-280.3\">input:</text>\n",
       "<polyline fill=\"none\" points=\"294,-272.5 349,-272.5 \" stroke=\"#000000\"/>\n",
       "<text fill=\"#000000\" font-family=\"Times,serif\" font-size=\"14.00\" text-anchor=\"middle\" x=\"321.5\" y=\"-257.3\">output:</text>\n",
       "<polyline fill=\"none\" points=\"349,-249.5 349,-295.5 \" stroke=\"#000000\"/>\n",
       "<text fill=\"#000000\" font-family=\"Times,serif\" font-size=\"14.00\" text-anchor=\"middle\" x=\"397.5\" y=\"-280.3\">(None, 1, 100)</text>\n",
       "<polyline fill=\"none\" points=\"349,-272.5 446,-272.5 \" stroke=\"#000000\"/>\n",
       "<text fill=\"#000000\" font-family=\"Times,serif\" font-size=\"14.00\" text-anchor=\"middle\" x=\"397.5\" y=\"-257.3\">(None, 100)</text>\n",
       "</g>\n",
       "<!-- 140600888631760&#45;&gt;140600888633440 -->\n",
       "<g class=\"edge\" id=\"edge4\">\n",
       "<title>140600888631760-&gt;140600888633440</title>\n",
       "<path d=\"M255.3125,-332.3799C268.5252,-322.9259 283.9668,-311.8772 297.9633,-301.8625\" fill=\"none\" stroke=\"#000000\"/>\n",
       "<polygon fill=\"#000000\" points=\"300.3626,-304.4495 306.4585,-295.784 296.2892,-298.7566 300.3626,-304.4495\" stroke=\"#000000\"/>\n",
       "</g>\n",
       "<!-- 140600888633832 -->\n",
       "<g class=\"node\" id=\"node6\">\n",
       "<title>140600888633832</title>\n",
       "<polygon fill=\"none\" points=\"94.5,-166.5 94.5,-212.5 351.5,-212.5 351.5,-166.5 94.5,-166.5\" stroke=\"#000000\"/>\n",
       "<text fill=\"#000000\" font-family=\"Times,serif\" font-size=\"14.00\" text-anchor=\"middle\" x=\"113\" y=\"-185.8\">Dot</text>\n",
       "<polyline fill=\"none\" points=\"131.5,-166.5 131.5,-212.5 \" stroke=\"#000000\"/>\n",
       "<text fill=\"#000000\" font-family=\"Times,serif\" font-size=\"14.00\" text-anchor=\"middle\" x=\"159\" y=\"-197.3\">input:</text>\n",
       "<polyline fill=\"none\" points=\"131.5,-189.5 186.5,-189.5 \" stroke=\"#000000\"/>\n",
       "<text fill=\"#000000\" font-family=\"Times,serif\" font-size=\"14.00\" text-anchor=\"middle\" x=\"159\" y=\"-174.3\">output:</text>\n",
       "<polyline fill=\"none\" points=\"186.5,-166.5 186.5,-212.5 \" stroke=\"#000000\"/>\n",
       "<text fill=\"#000000\" font-family=\"Times,serif\" font-size=\"14.00\" text-anchor=\"middle\" x=\"269\" y=\"-197.3\">[(None, 100), (None, 100)]</text>\n",
       "<polyline fill=\"none\" points=\"186.5,-189.5 351.5,-189.5 \" stroke=\"#000000\"/>\n",
       "<text fill=\"#000000\" font-family=\"Times,serif\" font-size=\"14.00\" text-anchor=\"middle\" x=\"269\" y=\"-174.3\">(None, 1)</text>\n",
       "</g>\n",
       "<!-- 140600888632936&#45;&gt;140600888633832 -->\n",
       "<g class=\"edge\" id=\"edge5\">\n",
       "<title>140600888632936-&gt;140600888633832</title>\n",
       "<path d=\"M139.3125,-249.3799C152.5252,-239.9259 167.9668,-228.8772 181.9633,-218.8625\" fill=\"none\" stroke=\"#000000\"/>\n",
       "<polygon fill=\"#000000\" points=\"184.3626,-221.4495 190.4585,-212.784 180.2892,-215.7566 184.3626,-221.4495\" stroke=\"#000000\"/>\n",
       "</g>\n",
       "<!-- 140600888633440&#45;&gt;140600888633832 -->\n",
       "<g class=\"edge\" id=\"edge6\">\n",
       "<title>140600888633440-&gt;140600888633832</title>\n",
       "<path d=\"M306.6875,-249.3799C293.4748,-239.9259 278.0332,-228.8772 264.0367,-218.8625\" fill=\"none\" stroke=\"#000000\"/>\n",
       "<polygon fill=\"#000000\" points=\"265.7108,-215.7566 255.5415,-212.784 261.6374,-221.4495 265.7108,-215.7566\" stroke=\"#000000\"/>\n",
       "</g>\n",
       "<!-- 140600888634560 -->\n",
       "<g class=\"node\" id=\"node7\">\n",
       "<title>140600888634560</title>\n",
       "<polygon fill=\"none\" points=\"130,-83.5 130,-129.5 316,-129.5 316,-83.5 130,-83.5\" stroke=\"#000000\"/>\n",
       "<text fill=\"#000000\" font-family=\"Times,serif\" font-size=\"14.00\" text-anchor=\"middle\" x=\"161\" y=\"-102.8\">Reshape</text>\n",
       "<polyline fill=\"none\" points=\"192,-83.5 192,-129.5 \" stroke=\"#000000\"/>\n",
       "<text fill=\"#000000\" font-family=\"Times,serif\" font-size=\"14.00\" text-anchor=\"middle\" x=\"219.5\" y=\"-114.3\">input:</text>\n",
       "<polyline fill=\"none\" points=\"192,-106.5 247,-106.5 \" stroke=\"#000000\"/>\n",
       "<text fill=\"#000000\" font-family=\"Times,serif\" font-size=\"14.00\" text-anchor=\"middle\" x=\"219.5\" y=\"-91.3\">output:</text>\n",
       "<polyline fill=\"none\" points=\"247,-83.5 247,-129.5 \" stroke=\"#000000\"/>\n",
       "<text fill=\"#000000\" font-family=\"Times,serif\" font-size=\"14.00\" text-anchor=\"middle\" x=\"281.5\" y=\"-114.3\">(None, 1)</text>\n",
       "<polyline fill=\"none\" points=\"247,-106.5 316,-106.5 \" stroke=\"#000000\"/>\n",
       "<text fill=\"#000000\" font-family=\"Times,serif\" font-size=\"14.00\" text-anchor=\"middle\" x=\"281.5\" y=\"-91.3\">(None, 1)</text>\n",
       "</g>\n",
       "<!-- 140600888633832&#45;&gt;140600888634560 -->\n",
       "<g class=\"edge\" id=\"edge7\">\n",
       "<title>140600888633832-&gt;140600888634560</title>\n",
       "<path d=\"M223,-166.3799C223,-158.1745 223,-148.7679 223,-139.8786\" fill=\"none\" stroke=\"#000000\"/>\n",
       "<polygon fill=\"#000000\" points=\"226.5001,-139.784 223,-129.784 219.5001,-139.784 226.5001,-139.784\" stroke=\"#000000\"/>\n",
       "</g>\n",
       "<!-- 140600888634504 -->\n",
       "<g class=\"node\" id=\"node8\">\n",
       "<title>140600888634504</title>\n",
       "<polygon fill=\"none\" points=\"136,-.5 136,-46.5 310,-46.5 310,-.5 136,-.5\" stroke=\"#000000\"/>\n",
       "<text fill=\"#000000\" font-family=\"Times,serif\" font-size=\"14.00\" text-anchor=\"middle\" x=\"161\" y=\"-19.8\">Dense</text>\n",
       "<polyline fill=\"none\" points=\"186,-.5 186,-46.5 \" stroke=\"#000000\"/>\n",
       "<text fill=\"#000000\" font-family=\"Times,serif\" font-size=\"14.00\" text-anchor=\"middle\" x=\"213.5\" y=\"-31.3\">input:</text>\n",
       "<polyline fill=\"none\" points=\"186,-23.5 241,-23.5 \" stroke=\"#000000\"/>\n",
       "<text fill=\"#000000\" font-family=\"Times,serif\" font-size=\"14.00\" text-anchor=\"middle\" x=\"213.5\" y=\"-8.3\">output:</text>\n",
       "<polyline fill=\"none\" points=\"241,-.5 241,-46.5 \" stroke=\"#000000\"/>\n",
       "<text fill=\"#000000\" font-family=\"Times,serif\" font-size=\"14.00\" text-anchor=\"middle\" x=\"275.5\" y=\"-31.3\">(None, 1)</text>\n",
       "<polyline fill=\"none\" points=\"241,-23.5 310,-23.5 \" stroke=\"#000000\"/>\n",
       "<text fill=\"#000000\" font-family=\"Times,serif\" font-size=\"14.00\" text-anchor=\"middle\" x=\"275.5\" y=\"-8.3\">(None, 1)</text>\n",
       "</g>\n",
       "<!-- 140600888634560&#45;&gt;140600888634504 -->\n",
       "<g class=\"edge\" id=\"edge8\">\n",
       "<title>140600888634560-&gt;140600888634504</title>\n",
       "<path d=\"M223,-83.3799C223,-75.1745 223,-65.7679 223,-56.8786\" fill=\"none\" stroke=\"#000000\"/>\n",
       "<polygon fill=\"#000000\" points=\"226.5001,-56.784 223,-46.784 219.5001,-56.784 226.5001,-56.784\" stroke=\"#000000\"/>\n",
       "</g>\n",
       "</g>\n",
       "</svg>"
      ],
      "text/plain": [
       "<IPython.core.display.SVG object>"
      ]
     },
     "execution_count": 14,
     "metadata": {},
     "output_type": "execute_result"
    }
   ],
   "source": [
    "from IPython.display import SVG\n",
    "from keras.utils.vis_utils import model_to_dot\n",
    "\n",
    "SVG(model_to_dot(model, show_shapes=True, show_layer_names=False, rankdir='TB', dpi=65).create(prog='dot', format='svg'))"
   ]
  },
  {
   "cell_type": "markdown",
   "metadata": {},
   "source": [
    "### Training the model"
   ]
  },
  {
   "cell_type": "code",
   "execution_count": 15,
   "metadata": {},
   "outputs": [
    {
     "name": "stdout",
     "output_type": "stream",
     "text": [
      "Processed 0 (skip_first, skip_second, relevance) pairs\n"
     ]
    },
    {
     "name": "stderr",
     "output_type": "stream",
     "text": [
      "/home/kienmn/Workspace/JupyterWorkspace/jupyter_env/lib/python3.6/site-packages/tensorflow_core/python/framework/indexed_slices.py:424: UserWarning: Converting sparse IndexedSlices to a dense Tensor of unknown shape. This may consume a large amount of memory.\n",
      "  \"Converting sparse IndexedSlices to a dense Tensor of unknown shape. \"\n"
     ]
    },
    {
     "name": "stdout",
     "output_type": "stream",
     "text": [
      "Processed 10000 (skip_first, skip_second, relevance) pairs\n",
      "Processed 20000 (skip_first, skip_second, relevance) pairs\n",
      "Epoch: 1 Loss: 15035.370395410806\n",
      "Processed 0 (skip_first, skip_second, relevance) pairs\n",
      "Processed 10000 (skip_first, skip_second, relevance) pairs\n",
      "Processed 20000 (skip_first, skip_second, relevance) pairs\n",
      "Epoch: 2 Loss: 14942.532208044082\n",
      "Processed 0 (skip_first, skip_second, relevance) pairs\n",
      "Processed 10000 (skip_first, skip_second, relevance) pairs\n",
      "Processed 20000 (skip_first, skip_second, relevance) pairs\n",
      "Epoch: 3 Loss: 14998.210070537403\n",
      "Processed 0 (skip_first, skip_second, relevance) pairs\n",
      "Processed 10000 (skip_first, skip_second, relevance) pairs\n",
      "Processed 20000 (skip_first, skip_second, relevance) pairs\n",
      "Epoch: 4 Loss: 15105.65146959573\n",
      "Processed 0 (skip_first, skip_second, relevance) pairs\n",
      "Processed 10000 (skip_first, skip_second, relevance) pairs\n",
      "Processed 20000 (skip_first, skip_second, relevance) pairs\n",
      "Epoch: 5 Loss: 15228.867030989379\n"
     ]
    }
   ],
   "source": [
    "for epoch in range(1, 6):\n",
    "    loss = 0\n",
    "    for i, elem in enumerate(skip_grams):\n",
    "        pair_first_elem = np.array(list(zip(*elem[0]))[0], dtype='int32')\n",
    "        pair_second_elem = np.array(list(zip(*elem[0]))[1], dtype='int32')\n",
    "        labels = np.array(elem[1], dtype='int32')\n",
    "        X = [pair_first_elem, pair_second_elem]\n",
    "        Y = labels\n",
    "        if i % 10000 == 0:\n",
    "            print('Processed {} (skip_first, skip_second, relevance) pairs'.format(i))\n",
    "        loss += model.train_on_batch(X,Y)  \n",
    "\n",
    "    print('Epoch:', epoch, 'Loss:', loss)"
   ]
  },
  {
   "cell_type": "markdown",
   "metadata": {},
   "source": [
    "### Getting word embeddings"
   ]
  },
  {
   "cell_type": "code",
   "execution_count": 16,
   "metadata": {},
   "outputs": [
    {
     "data": {
      "text/plain": [
       "(12424, 100)"
      ]
     },
     "execution_count": 16,
     "metadata": {},
     "output_type": "execute_result"
    }
   ],
   "source": [
    "weights = model.get_weights()[0]\n",
    "weights = weights[1:]   # weights[0] is PAD.\n",
    "weights.shape"
   ]
  },
  {
   "cell_type": "code",
   "execution_count": 17,
   "metadata": {},
   "outputs": [
    {
     "data": {
      "text/html": [
       "<div>\n",
       "<style scoped>\n",
       "    .dataframe tbody tr th:only-of-type {\n",
       "        vertical-align: middle;\n",
       "    }\n",
       "\n",
       "    .dataframe tbody tr th {\n",
       "        vertical-align: top;\n",
       "    }\n",
       "\n",
       "    .dataframe thead th {\n",
       "        text-align: right;\n",
       "    }\n",
       "</style>\n",
       "<table border=\"1\" class=\"dataframe\">\n",
       "  <thead>\n",
       "    <tr style=\"text-align: right;\">\n",
       "      <th></th>\n",
       "      <th>0</th>\n",
       "      <th>1</th>\n",
       "      <th>2</th>\n",
       "      <th>3</th>\n",
       "      <th>4</th>\n",
       "      <th>5</th>\n",
       "      <th>6</th>\n",
       "      <th>7</th>\n",
       "      <th>8</th>\n",
       "      <th>9</th>\n",
       "      <th>...</th>\n",
       "      <th>90</th>\n",
       "      <th>91</th>\n",
       "      <th>92</th>\n",
       "      <th>93</th>\n",
       "      <th>94</th>\n",
       "      <th>95</th>\n",
       "      <th>96</th>\n",
       "      <th>97</th>\n",
       "      <th>98</th>\n",
       "      <th>99</th>\n",
       "    </tr>\n",
       "  </thead>\n",
       "  <tbody>\n",
       "    <tr>\n",
       "      <td>shall</td>\n",
       "      <td>2.172062</td>\n",
       "      <td>4.022445</td>\n",
       "      <td>4.379743</td>\n",
       "      <td>-2.919447</td>\n",
       "      <td>2.543513</td>\n",
       "      <td>-2.867181</td>\n",
       "      <td>-3.250595</td>\n",
       "      <td>-5.386068</td>\n",
       "      <td>-1.919947</td>\n",
       "      <td>3.977858</td>\n",
       "      <td>...</td>\n",
       "      <td>-2.866533</td>\n",
       "      <td>2.387784</td>\n",
       "      <td>-3.274547</td>\n",
       "      <td>4.273549</td>\n",
       "      <td>-2.903743</td>\n",
       "      <td>-5.360615</td>\n",
       "      <td>-4.507411</td>\n",
       "      <td>3.395684</td>\n",
       "      <td>-3.224523</td>\n",
       "      <td>-2.785613</td>\n",
       "    </tr>\n",
       "    <tr>\n",
       "      <td>unto</td>\n",
       "      <td>4.453259</td>\n",
       "      <td>3.960287</td>\n",
       "      <td>3.825125</td>\n",
       "      <td>-3.467037</td>\n",
       "      <td>3.959281</td>\n",
       "      <td>-3.300422</td>\n",
       "      <td>-3.786019</td>\n",
       "      <td>-3.892823</td>\n",
       "      <td>-4.615819</td>\n",
       "      <td>2.471072</td>\n",
       "      <td>...</td>\n",
       "      <td>-2.811932</td>\n",
       "      <td>2.544828</td>\n",
       "      <td>-3.603465</td>\n",
       "      <td>3.651397</td>\n",
       "      <td>-3.675355</td>\n",
       "      <td>-2.267075</td>\n",
       "      <td>-3.608488</td>\n",
       "      <td>3.720096</td>\n",
       "      <td>-3.416026</td>\n",
       "      <td>-2.211873</td>\n",
       "    </tr>\n",
       "    <tr>\n",
       "      <td>lord</td>\n",
       "      <td>3.865193</td>\n",
       "      <td>3.783848</td>\n",
       "      <td>4.531088</td>\n",
       "      <td>-3.289522</td>\n",
       "      <td>3.603434</td>\n",
       "      <td>-3.337317</td>\n",
       "      <td>-3.525669</td>\n",
       "      <td>-4.333025</td>\n",
       "      <td>-4.063393</td>\n",
       "      <td>2.804844</td>\n",
       "      <td>...</td>\n",
       "      <td>-2.823969</td>\n",
       "      <td>2.823605</td>\n",
       "      <td>-3.426798</td>\n",
       "      <td>3.741462</td>\n",
       "      <td>-3.577426</td>\n",
       "      <td>-3.422535</td>\n",
       "      <td>-4.096468</td>\n",
       "      <td>3.536601</td>\n",
       "      <td>-3.168930</td>\n",
       "      <td>-3.237899</td>\n",
       "    </tr>\n",
       "    <tr>\n",
       "      <td>thou</td>\n",
       "      <td>2.842548</td>\n",
       "      <td>3.954312</td>\n",
       "      <td>2.442059</td>\n",
       "      <td>-1.534369</td>\n",
       "      <td>-3.406535</td>\n",
       "      <td>-4.383479</td>\n",
       "      <td>-4.063610</td>\n",
       "      <td>-4.970333</td>\n",
       "      <td>-2.759584</td>\n",
       "      <td>3.492296</td>\n",
       "      <td>...</td>\n",
       "      <td>-3.053588</td>\n",
       "      <td>0.885186</td>\n",
       "      <td>-3.155481</td>\n",
       "      <td>4.654155</td>\n",
       "      <td>-4.590189</td>\n",
       "      <td>-4.066289</td>\n",
       "      <td>-4.471157</td>\n",
       "      <td>1.728781</td>\n",
       "      <td>-3.079309</td>\n",
       "      <td>4.009254</td>\n",
       "    </tr>\n",
       "    <tr>\n",
       "      <td>thy</td>\n",
       "      <td>3.128451</td>\n",
       "      <td>3.828587</td>\n",
       "      <td>3.381230</td>\n",
       "      <td>-2.033289</td>\n",
       "      <td>0.668314</td>\n",
       "      <td>-4.314845</td>\n",
       "      <td>-3.702460</td>\n",
       "      <td>-4.603981</td>\n",
       "      <td>-2.760511</td>\n",
       "      <td>3.556735</td>\n",
       "      <td>...</td>\n",
       "      <td>-3.252931</td>\n",
       "      <td>1.638627</td>\n",
       "      <td>-3.257481</td>\n",
       "      <td>4.181323</td>\n",
       "      <td>-4.134443</td>\n",
       "      <td>-4.197641</td>\n",
       "      <td>-4.281988</td>\n",
       "      <td>2.694558</td>\n",
       "      <td>-3.337043</td>\n",
       "      <td>0.053182</td>\n",
       "    </tr>\n",
       "  </tbody>\n",
       "</table>\n",
       "<p>5 rows × 100 columns</p>\n",
       "</div>"
      ],
      "text/plain": [
       "             0         1         2         3         4         5         6   \\\n",
       "shall  2.172062  4.022445  4.379743 -2.919447  2.543513 -2.867181 -3.250595   \n",
       "unto   4.453259  3.960287  3.825125 -3.467037  3.959281 -3.300422 -3.786019   \n",
       "lord   3.865193  3.783848  4.531088 -3.289522  3.603434 -3.337317 -3.525669   \n",
       "thou   2.842548  3.954312  2.442059 -1.534369 -3.406535 -4.383479 -4.063610   \n",
       "thy    3.128451  3.828587  3.381230 -2.033289  0.668314 -4.314845 -3.702460   \n",
       "\n",
       "             7         8         9   ...        90        91        92  \\\n",
       "shall -5.386068 -1.919947  3.977858  ... -2.866533  2.387784 -3.274547   \n",
       "unto  -3.892823 -4.615819  2.471072  ... -2.811932  2.544828 -3.603465   \n",
       "lord  -4.333025 -4.063393  2.804844  ... -2.823969  2.823605 -3.426798   \n",
       "thou  -4.970333 -2.759584  3.492296  ... -3.053588  0.885186 -3.155481   \n",
       "thy   -4.603981 -2.760511  3.556735  ... -3.252931  1.638627 -3.257481   \n",
       "\n",
       "             93        94        95        96        97        98        99  \n",
       "shall  4.273549 -2.903743 -5.360615 -4.507411  3.395684 -3.224523 -2.785613  \n",
       "unto   3.651397 -3.675355 -2.267075 -3.608488  3.720096 -3.416026 -2.211873  \n",
       "lord   3.741462 -3.577426 -3.422535 -4.096468  3.536601 -3.168930 -3.237899  \n",
       "thou   4.654155 -4.590189 -4.066289 -4.471157  1.728781 -3.079309  4.009254  \n",
       "thy    4.181323 -4.134443 -4.197641 -4.281988  2.694558 -3.337043  0.053182  \n",
       "\n",
       "[5 rows x 100 columns]"
      ]
     },
     "execution_count": 17,
     "metadata": {},
     "output_type": "execute_result"
    }
   ],
   "source": [
    "pd.DataFrame(weights, index=list(id2word.values())[:-1]).head()"
   ]
  },
  {
   "cell_type": "markdown",
   "metadata": {},
   "source": [
    "### Finding similar words"
   ]
  },
  {
   "cell_type": "code",
   "execution_count": 18,
   "metadata": {},
   "outputs": [
    {
     "data": {
      "text/plain": [
       "(12424, 12424)"
      ]
     },
     "execution_count": 18,
     "metadata": {},
     "output_type": "execute_result"
    }
   ],
   "source": [
    "from sklearn.metrics.pairwise import euclidean_distances\n",
    "distance_matrix = euclidean_distances(weights)\n",
    "distance_matrix.shape"
   ]
  },
  {
   "cell_type": "code",
   "execution_count": 19,
   "metadata": {},
   "outputs": [
    {
     "data": {
      "text/plain": [
       "{'god': ['lord', 'us', 'say', 'let', 'ye'],\n",
       " 'jesus': ['speak', 'spirit', 'law', 'yea', 'voice'],\n",
       " 'noah': ['baskets', 'lad', 'mire', 'circumcise', 'sisters'],\n",
       " 'egypt': ['brought', 'together', 'commanded', 'spake', 'left'],\n",
       " 'john': ['chambers', 'helped', 'visited', 'making', 'enquired'],\n",
       " 'gospel': ['ere', 'lighted', 'decree', 'proclaimed', 'clave'],\n",
       " 'moses': ['commanded', 'spake', 'jacob', 'elders', 'first'],\n",
       " 'famine': ['thither', 'present', 'clothes', 'wept', 'moab']}"
      ]
     },
     "execution_count": 19,
     "metadata": {},
     "output_type": "execute_result"
    }
   ],
   "source": [
    "similar_words = {search_term: [id2word[idx] for idx in distance_matrix[word2id[search_term]-1].argsort()[1:6]+1] \n",
    "                   for search_term in ['god', 'jesus', 'noah', 'egypt', 'john', 'gospel', 'moses','famine']}\n",
    "\n",
    "similar_words"
   ]
  },
  {
   "cell_type": "markdown",
   "metadata": {},
   "source": [
    "### Visualizing "
   ]
  },
  {
   "cell_type": "code",
   "execution_count": 20,
   "metadata": {},
   "outputs": [
    {
     "name": "stdout",
     "output_type": "stream",
     "text": [
      "Total words: 48 \tWord Embedding shapes: (48, 100)\n"
     ]
    },
    {
     "data": {
      "image/png": "[encoded data removed]",
      "text/plain": [
       "<Figure size 1008x576 with 1 Axes>"
      ]
     },
     "metadata": {
      "needs_background": "light"
     },
     "output_type": "display_data"
    }
   ],
   "source": [
    "from sklearn.manifold import TSNE\n",
    "\n",
    "words = sum([[k] + v for k, v in similar_words.items()], [])\n",
    "words_ids = [word2id[w] for w in words]\n",
    "word_vectors = np.array([weights[idx] for idx in words_ids])\n",
    "print('Total words:', len(words), '\\tWord Embedding shapes:', word_vectors.shape)\n",
    "\n",
    "tsne = TSNE(n_components=2, random_state=0, n_iter=10000, perplexity=3)\n",
    "np.set_printoptions(suppress=True)\n",
    "T = tsne.fit_transform(word_vectors)\n",
    "labels = words\n",
    "\n",
    "plt.figure(figsize=(14, 8))\n",
    "plt.scatter(T[:, 0], T[:, 1], c='steelblue', edgecolors='k')\n",
    "for label, x, y in zip(labels, T[:, 0], T[:, 1]):\n",
    "    plt.annotate(label, xy=(x+1, y+1), xytext=(0, 0), textcoords='offset points')"
   ]
  },
  {
   "cell_type": "markdown",
   "metadata": {},
   "source": [
    "## Robust Word2Vec Models with Gensim"
   ]
  },
  {
   "cell_type": "code",
   "execution_count": 26,
   "metadata": {},
   "outputs": [],
   "source": [
    "from gensim.models import word2vec\n",
    "\n",
    "# tokenize sentences in corpus\n",
    "wpt = nltk.WordPunctTokenizer()\n",
    "tokenized_corpus = [wpt.tokenize(document) for document in norm_bible]\n",
    "\n",
    "# Set values for various parameters\n",
    "feature_size = 100    # Word vector dimensionality  \n",
    "window_context = 30          # Context window size                                                                                    \n",
    "min_word_count = 1   # Minimum word count                        \n",
    "sample = 1e-3   # Downsample setting for frequent words\n",
    "\n",
    "w2v_model = word2vec.Word2Vec(tokenized_corpus, size=feature_size, \n",
    "                              window=window_context, min_count=min_word_count,\n",
    "                              sample=sample, iter=50)"
   ]
  },
  {
   "cell_type": "code",
   "execution_count": 27,
   "metadata": {},
   "outputs": [
    {
     "data": {
      "text/plain": [
       "{'god': ['lord', 'sworn', 'glory', 'ever', 'worldly'],\n",
       " 'jesus': ['peter', 'messias', 'apostles', 'immediately', 'john'],\n",
       " 'noah': ['shem', 'ham', 'japheth', 'enosh', 'kenan'],\n",
       " 'egypt': ['pharaoh', 'egyptians', 'bondage', 'rid', 'rod'],\n",
       " 'john': ['baptist', 'james', 'simon', 'devine', 'galilee'],\n",
       " 'gospel': ['faith', 'christ', 'repentance', 'preach', 'afflictions'],\n",
       " 'moses': ['congregation', 'children', 'joshua', 'ordinance', 'aaron'],\n",
       " 'famine': ['pestilence', 'peril', 'sword', 'deaths', 'noisome']}"
      ]
     },
     "execution_count": 27,
     "metadata": {},
     "output_type": "execute_result"
    }
   ],
   "source": [
    "# view similar words based on gensim's model\n",
    "similar_words = {search_term: [item[0] for item in w2v_model.wv.most_similar([search_term], topn=5)]\n",
    "                  for search_term in ['god', 'jesus', 'noah', 'egypt', 'john', 'gospel', 'moses','famine']}\n",
    "similar_words"
   ]
  },
  {
   "cell_type": "code",
   "execution_count": 28,
   "metadata": {},
   "outputs": [
    {
     "data": {
      "image/png": "[encoded data removed]",
      "text/plain": [
       "<Figure size 1008x576 with 1 Axes>"
      ]
     },
     "metadata": {
      "needs_background": "light"
     },
     "output_type": "display_data"
    }
   ],
   "source": [
    "from sklearn.manifold import TSNE\n",
    "\n",
    "words = sum([[k] + v for k, v in similar_words.items()], [])\n",
    "wvs = w2v_model.wv[words]\n",
    "\n",
    "tsne = TSNE(n_components=2, random_state=0, n_iter=10000, perplexity=2)\n",
    "np.set_printoptions(suppress=True)\n",
    "T = tsne.fit_transform(wvs)\n",
    "labels = words\n",
    "\n",
    "plt.figure(figsize=(14, 8))\n",
    "plt.scatter(T[:, 0], T[:, 1], c='orange', edgecolors='r')\n",
    "for label, x, y in zip(labels, T[:, 0], T[:, 1]):\n",
    "    plt.annotate(label, xy=(x+1, y+1), xytext=(0, 0), textcoords='offset points')"
   ]
  },
  {
   "cell_type": "code",
   "execution_count": 24,
   "metadata": {},
   "outputs": [
    {
     "data": {
      "text/plain": [
       "['god', 'lord', 'worldly', 'soberly', 'salvation']"
      ]
     },
     "execution_count": 24,
     "metadata": {},
     "output_type": "execute_result"
    }
   ],
   "source": [
    "words[:5]"
   ]
  },
  {
   "cell_type": "code",
   "execution_count": 25,
   "metadata": {},
   "outputs": [
    {
     "data": {
      "text/plain": [
       "(48, 100)"
      ]
     },
     "execution_count": 25,
     "metadata": {},
     "output_type": "execute_result"
    }
   ],
   "source": [
    "wvs.shape"
   ]
  }
 ],
 "metadata": {
  "kernelspec": {
   "display_name": "jupyter_env",
   "language": "python",
   "name": "jupyter_env"
  },
  "language_info": {
   "codemirror_mode": {
    "name": "ipython",
    "version": 3
   },
   "file_extension": ".py",
   "mimetype": "text/x-python",
   "name": "python",
   "nbconvert_exporter": "python",
   "pygments_lexer": "ipython3",
   "version": "3.6.8"
  }
 },
 "nbformat": 4,
 "nbformat_minor": 4
}
